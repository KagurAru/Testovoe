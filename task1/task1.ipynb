{
 "cells": [
  {
   "cell_type": "code",
   "execution_count": 61,
   "id": "7538b3d7-c196-4682-9d51-9c62e31b795a",
   "metadata": {},
   "outputs": [
    {
     "name": "stdout",
     "output_type": "stream",
     "text": [
      "[1, 2, 3, 4, 5]\n",
      "[4, 5, 1, 2, 3]\n",
      "[2, 3, 4, 5, 1]\n",
      "[5, 1, 2, 3, 4]\n",
      "[3, 4, 5, 1, 2]\n",
      "[1, 4, 2, 5, 3]\n"
     ]
    }
   ],
   "source": [
    "n = 5\n",
    "m = 4\n",
    "\n",
    "array = list(range(1, n + 1))\n",
    "\n",
    "path = []\n",
    "\n",
    "while True:\n",
    "        \n",
    "    path.append(array[0])\n",
    "    \n",
    "    end_segment = array[-(n - m + 1):]\n",
    "    start_segment = array[:m - 1]\n",
    "    promArr = end_segment + start_segment\n",
    "        \n",
    "    if promArr[m-1] == 1:\n",
    "        path.append(promArr[0])\n",
    "        break\n",
    "        \n",
    "    array = promArr\n",
    "    \n",
    "print(path)\n"
   ]
  },
  {
   "cell_type": "code",
   "execution_count": null,
   "id": "8cb7e38a-d051-4ae7-89d0-3cbd47610064",
   "metadata": {},
   "outputs": [],
   "source": []
  }
 ],
 "metadata": {
  "kernelspec": {
   "display_name": "Python 3 (ipykernel)",
   "language": "python",
   "name": "python3"
  },
  "language_info": {
   "codemirror_mode": {
    "name": "ipython",
    "version": 3
   },
   "file_extension": ".py",
   "mimetype": "text/x-python",
   "name": "python",
   "nbconvert_exporter": "python",
   "pygments_lexer": "ipython3",
   "version": "3.9.13"
  }
 },
 "nbformat": 4,
 "nbformat_minor": 5
}
